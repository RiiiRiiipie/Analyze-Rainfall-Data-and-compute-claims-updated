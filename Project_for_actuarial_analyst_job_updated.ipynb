{
 "cells": [
  {
   "cell_type": "markdown",
   "id": "5e6431b9-a8b5-4443-9670-a3725db12511",
   "metadata": {},
   "source": [
    "# Challenge: Analyze Rainfall Data and Compute Claims\n"
   ]
  },
  {
   "cell_type": "code",
   "execution_count": 1,
   "id": "188afed7-c7ea-465a-91f6-cc05314acc00",
   "metadata": {},
   "outputs": [],
   "source": [
    "import numpy as np\n",
    "import pandas as pd\n",
    "import seaborn as sns\n",
    "import matplotlib.pyplot as plt"
   ]
  },
  {
   "cell_type": "code",
   "execution_count": 29,
   "id": "8eeac292-4ab6-4d92-8a2a-8242d669d903",
   "metadata": {},
   "outputs": [],
   "source": [
    "# Importing the data for analysis \n",
    "df = pd.read_excel(r\"C:\\Users\\Rishabh Pandey\\Downloads\\InRisk_Labs_Assignment.xlsx\")\n"
   ]
  },
  {
   "cell_type": "code",
   "execution_count": 3,
   "id": "d31a76f1-1ab2-4efc-bdf3-808a8201a332",
   "metadata": {},
   "outputs": [
    {
     "data": {
      "text/html": [
       "<div>\n",
       "<style scoped>\n",
       "    .dataframe tbody tr th:only-of-type {\n",
       "        vertical-align: middle;\n",
       "    }\n",
       "\n",
       "    .dataframe tbody tr th {\n",
       "        vertical-align: top;\n",
       "    }\n",
       "\n",
       "    .dataframe thead th {\n",
       "        text-align: right;\n",
       "    }\n",
       "</style>\n",
       "<table border=\"1\" class=\"dataframe\">\n",
       "  <thead>\n",
       "    <tr style=\"text-align: right;\">\n",
       "      <th></th>\n",
       "      <th>Region</th>\n",
       "      <th>Date</th>\n",
       "      <th>Rainfall_mm</th>\n",
       "    </tr>\n",
       "  </thead>\n",
       "  <tbody>\n",
       "    <tr>\n",
       "      <th>0</th>\n",
       "      <td>Region_A</td>\n",
       "      <td>2024-01-01</td>\n",
       "      <td>4.965</td>\n",
       "    </tr>\n",
       "    <tr>\n",
       "      <th>1</th>\n",
       "      <td>Region_A</td>\n",
       "      <td>2024-01-02</td>\n",
       "      <td>27.729</td>\n",
       "    </tr>\n",
       "    <tr>\n",
       "      <th>2</th>\n",
       "      <td>Region_A</td>\n",
       "      <td>2024-01-03</td>\n",
       "      <td>12.881</td>\n",
       "    </tr>\n",
       "    <tr>\n",
       "      <th>3</th>\n",
       "      <td>Region_A</td>\n",
       "      <td>2024-01-04</td>\n",
       "      <td>32.818</td>\n",
       "    </tr>\n",
       "    <tr>\n",
       "      <th>4</th>\n",
       "      <td>Region_A</td>\n",
       "      <td>2024-01-05</td>\n",
       "      <td>36.127</td>\n",
       "    </tr>\n",
       "  </tbody>\n",
       "</table>\n",
       "</div>"
      ],
      "text/plain": [
       "     Region       Date  Rainfall_mm\n",
       "0  Region_A 2024-01-01        4.965\n",
       "1  Region_A 2024-01-02       27.729\n",
       "2  Region_A 2024-01-03       12.881\n",
       "3  Region_A 2024-01-04       32.818\n",
       "4  Region_A 2024-01-05       36.127"
      ]
     },
     "execution_count": 3,
     "metadata": {},
     "output_type": "execute_result"
    }
   ],
   "source": [
    "df.head()"
   ]
  },
  {
   "cell_type": "code",
   "execution_count": 14,
   "id": "2474c1df-33b8-4a47-a18f-3960f906d09f",
   "metadata": {},
   "outputs": [
    {
     "data": {
      "text/html": [
       "<div>\n",
       "<style scoped>\n",
       "    .dataframe tbody tr th:only-of-type {\n",
       "        vertical-align: middle;\n",
       "    }\n",
       "\n",
       "    .dataframe tbody tr th {\n",
       "        vertical-align: top;\n",
       "    }\n",
       "\n",
       "    .dataframe thead th {\n",
       "        text-align: right;\n",
       "    }\n",
       "</style>\n",
       "<table border=\"1\" class=\"dataframe\">\n",
       "  <thead>\n",
       "    <tr style=\"text-align: right;\">\n",
       "      <th></th>\n",
       "      <th>Region</th>\n",
       "      <th>Date</th>\n",
       "      <th>Rainfall_mm</th>\n",
       "    </tr>\n",
       "  </thead>\n",
       "  <tbody>\n",
       "    <tr>\n",
       "      <th>0</th>\n",
       "      <td>False</td>\n",
       "      <td>False</td>\n",
       "      <td>False</td>\n",
       "    </tr>\n",
       "    <tr>\n",
       "      <th>1</th>\n",
       "      <td>False</td>\n",
       "      <td>False</td>\n",
       "      <td>False</td>\n",
       "    </tr>\n",
       "    <tr>\n",
       "      <th>2</th>\n",
       "      <td>False</td>\n",
       "      <td>False</td>\n",
       "      <td>False</td>\n",
       "    </tr>\n",
       "    <tr>\n",
       "      <th>3</th>\n",
       "      <td>False</td>\n",
       "      <td>False</td>\n",
       "      <td>False</td>\n",
       "    </tr>\n",
       "    <tr>\n",
       "      <th>4</th>\n",
       "      <td>False</td>\n",
       "      <td>False</td>\n",
       "      <td>False</td>\n",
       "    </tr>\n",
       "    <tr>\n",
       "      <th>...</th>\n",
       "      <td>...</td>\n",
       "      <td>...</td>\n",
       "      <td>...</td>\n",
       "    </tr>\n",
       "    <tr>\n",
       "      <th>450</th>\n",
       "      <td>False</td>\n",
       "      <td>False</td>\n",
       "      <td>False</td>\n",
       "    </tr>\n",
       "    <tr>\n",
       "      <th>451</th>\n",
       "      <td>False</td>\n",
       "      <td>False</td>\n",
       "      <td>False</td>\n",
       "    </tr>\n",
       "    <tr>\n",
       "      <th>452</th>\n",
       "      <td>False</td>\n",
       "      <td>False</td>\n",
       "      <td>False</td>\n",
       "    </tr>\n",
       "    <tr>\n",
       "      <th>453</th>\n",
       "      <td>False</td>\n",
       "      <td>False</td>\n",
       "      <td>False</td>\n",
       "    </tr>\n",
       "    <tr>\n",
       "      <th>454</th>\n",
       "      <td>False</td>\n",
       "      <td>False</td>\n",
       "      <td>False</td>\n",
       "    </tr>\n",
       "  </tbody>\n",
       "</table>\n",
       "<p>455 rows × 3 columns</p>\n",
       "</div>"
      ],
      "text/plain": [
       "     Region   Date  Rainfall_mm\n",
       "0     False  False        False\n",
       "1     False  False        False\n",
       "2     False  False        False\n",
       "3     False  False        False\n",
       "4     False  False        False\n",
       "..      ...    ...          ...\n",
       "450   False  False        False\n",
       "451   False  False        False\n",
       "452   False  False        False\n",
       "453   False  False        False\n",
       "454   False  False        False\n",
       "\n",
       "[455 rows x 3 columns]"
      ]
     },
     "execution_count": 14,
     "metadata": {},
     "output_type": "execute_result"
    }
   ],
   "source": [
    "df.isnull() # no missing value in the data set "
   ]
  },
  {
   "cell_type": "markdown",
   "id": "21503f13-d0c0-4dd6-9f38-9392faffafff",
   "metadata": {},
   "source": [
    "# checking for missing values "
   ]
  },
  {
   "cell_type": "code",
   "execution_count": 16,
   "id": "370c3b10-ac67-4786-8a1a-1b69d54416b0",
   "metadata": {},
   "outputs": [
    {
     "data": {
      "text/html": [
       "<div>\n",
       "<style scoped>\n",
       "    .dataframe tbody tr th:only-of-type {\n",
       "        vertical-align: middle;\n",
       "    }\n",
       "\n",
       "    .dataframe tbody tr th {\n",
       "        vertical-align: top;\n",
       "    }\n",
       "\n",
       "    .dataframe thead th {\n",
       "        text-align: right;\n",
       "    }\n",
       "</style>\n",
       "<table border=\"1\" class=\"dataframe\">\n",
       "  <thead>\n",
       "    <tr style=\"text-align: right;\">\n",
       "      <th></th>\n",
       "      <th>Region</th>\n",
       "      <th>Date</th>\n",
       "      <th>Rainfall_mm</th>\n",
       "    </tr>\n",
       "  </thead>\n",
       "  <tbody>\n",
       "    <tr>\n",
       "      <th>0</th>\n",
       "      <td>Region_A</td>\n",
       "      <td>2024-01-01</td>\n",
       "      <td>4.965</td>\n",
       "    </tr>\n",
       "    <tr>\n",
       "      <th>1</th>\n",
       "      <td>Region_A</td>\n",
       "      <td>2024-01-02</td>\n",
       "      <td>27.729</td>\n",
       "    </tr>\n",
       "    <tr>\n",
       "      <th>2</th>\n",
       "      <td>Region_A</td>\n",
       "      <td>2024-01-03</td>\n",
       "      <td>12.881</td>\n",
       "    </tr>\n",
       "    <tr>\n",
       "      <th>3</th>\n",
       "      <td>Region_A</td>\n",
       "      <td>2024-01-04</td>\n",
       "      <td>32.818</td>\n",
       "    </tr>\n",
       "    <tr>\n",
       "      <th>4</th>\n",
       "      <td>Region_A</td>\n",
       "      <td>2024-01-05</td>\n",
       "      <td>36.127</td>\n",
       "    </tr>\n",
       "    <tr>\n",
       "      <th>...</th>\n",
       "      <td>...</td>\n",
       "      <td>...</td>\n",
       "      <td>...</td>\n",
       "    </tr>\n",
       "    <tr>\n",
       "      <th>450</th>\n",
       "      <td>Region_E</td>\n",
       "      <td>2024-03-27</td>\n",
       "      <td>13.695</td>\n",
       "    </tr>\n",
       "    <tr>\n",
       "      <th>451</th>\n",
       "      <td>Region_E</td>\n",
       "      <td>2024-03-28</td>\n",
       "      <td>36.534</td>\n",
       "    </tr>\n",
       "    <tr>\n",
       "      <th>452</th>\n",
       "      <td>Region_E</td>\n",
       "      <td>2024-03-29</td>\n",
       "      <td>82.125</td>\n",
       "    </tr>\n",
       "    <tr>\n",
       "      <th>453</th>\n",
       "      <td>Region_E</td>\n",
       "      <td>2024-03-30</td>\n",
       "      <td>95.024</td>\n",
       "    </tr>\n",
       "    <tr>\n",
       "      <th>454</th>\n",
       "      <td>Region_E</td>\n",
       "      <td>2024-03-31</td>\n",
       "      <td>54.937</td>\n",
       "    </tr>\n",
       "  </tbody>\n",
       "</table>\n",
       "<p>455 rows × 3 columns</p>\n",
       "</div>"
      ],
      "text/plain": [
       "       Region       Date  Rainfall_mm\n",
       "0    Region_A 2024-01-01        4.965\n",
       "1    Region_A 2024-01-02       27.729\n",
       "2    Region_A 2024-01-03       12.881\n",
       "3    Region_A 2024-01-04       32.818\n",
       "4    Region_A 2024-01-05       36.127\n",
       "..        ...        ...          ...\n",
       "450  Region_E 2024-03-27       13.695\n",
       "451  Region_E 2024-03-28       36.534\n",
       "452  Region_E 2024-03-29       82.125\n",
       "453  Region_E 2024-03-30       95.024\n",
       "454  Region_E 2024-03-31       54.937\n",
       "\n",
       "[455 rows x 3 columns]"
      ]
     },
     "execution_count": 16,
     "metadata": {},
     "output_type": "execute_result"
    }
   ],
   "source": [
    "df[df['Rainfall_mm'].notnull()] # no missing value "
   ]
  },
  {
   "cell_type": "markdown",
   "id": "e7510b6d-aa2f-4e39-bb05-ead4e11d76ae",
   "metadata": {},
   "source": [
    "# Dealing with outliers \n"
   ]
  },
  {
   "cell_type": "code",
   "execution_count": 3,
   "id": "1cff43db-0335-4846-9177-cafcd2f26d05",
   "metadata": {},
   "outputs": [
    {
     "data": {
      "text/plain": [
       "<Axes: >"
      ]
     },
     "execution_count": 3,
     "metadata": {},
     "output_type": "execute_result"
    },
    {
     "data": {
      "image/png": "[encoded data removed]",
      "text/plain": [
       "<Figure size 640x480 with 1 Axes>"
      ]
     },
     "metadata": {},
     "output_type": "display_data"
    }
   ],
   "source": [
    "sns.boxplot(df)\n",
    "#Rainfall Data Overview:\n",
    "#The x-axis represents Rainfall_mm, which is the variable of interest.\n",
    "#The y-axis scale indicates values in the range of 0 to 1.8e9 (1.8 billion).\n",
    "# Box plot \n",
    "# Box plot gives us the overall spread of the data  inter quartile range i.e upper quartile(75% of the data)- Lower quartile(25% of the data) as well as the median\n",
    "# It helps us to find the skewness of the data i.e is it positively skeweed , Negitively Skweed or symmeteric \n",
    "# It also helps us to find the outerliers \n",
    "# Outliers are that value in the data set which is far from the main distribution i.e either the value is very low or very high as compared to the Data \n",
    "#There are two extreme outliers visible:\n",
    "#One very high value close to 1.8e9.\n",
    "#One lower but still distinct outlier.\n",
    "# The lower outlier is not putting that much difference in the analysis .\n",
    "# But the upper outlier i.e 1.85e^9 is a very big and kind of illogical value according to the data set because the rainfall can never be that much.\n",
    "# so before staring the analysis we will get rid of this values i.e the outliers\n",
    "# we will remove the outliers for the further analysid "
   ]
  },
  {
   "cell_type": "code",
   "execution_count": 37,
   "id": "c8ff0777-9d83-497a-97fc-c3fff5ea83d0",
   "metadata": {},
   "outputs": [
    {
     "data": {
      "text/html": [
       "<div>\n",
       "<style scoped>\n",
       "    .dataframe tbody tr th:only-of-type {\n",
       "        vertical-align: middle;\n",
       "    }\n",
       "\n",
       "    .dataframe tbody tr th {\n",
       "        vertical-align: top;\n",
       "    }\n",
       "\n",
       "    .dataframe thead th {\n",
       "        text-align: right;\n",
       "    }\n",
       "</style>\n",
       "<table border=\"1\" class=\"dataframe\">\n",
       "  <thead>\n",
       "    <tr style=\"text-align: right;\">\n",
       "      <th></th>\n",
       "      <th>Region</th>\n",
       "      <th>Date</th>\n",
       "      <th>Rainfall_mm</th>\n",
       "    </tr>\n",
       "  </thead>\n",
       "  <tbody>\n",
       "    <tr>\n",
       "      <th>0</th>\n",
       "      <td>Region_A</td>\n",
       "      <td>2024-01-01</td>\n",
       "      <td>4.965</td>\n",
       "    </tr>\n",
       "    <tr>\n",
       "      <th>1</th>\n",
       "      <td>Region_A</td>\n",
       "      <td>2024-01-02</td>\n",
       "      <td>27.729</td>\n",
       "    </tr>\n",
       "    <tr>\n",
       "      <th>2</th>\n",
       "      <td>Region_A</td>\n",
       "      <td>2024-01-03</td>\n",
       "      <td>12.881</td>\n",
       "    </tr>\n",
       "    <tr>\n",
       "      <th>3</th>\n",
       "      <td>Region_A</td>\n",
       "      <td>2024-01-04</td>\n",
       "      <td>32.818</td>\n",
       "    </tr>\n",
       "    <tr>\n",
       "      <th>4</th>\n",
       "      <td>Region_A</td>\n",
       "      <td>2024-01-05</td>\n",
       "      <td>36.127</td>\n",
       "    </tr>\n",
       "    <tr>\n",
       "      <th>...</th>\n",
       "      <td>...</td>\n",
       "      <td>...</td>\n",
       "      <td>...</td>\n",
       "    </tr>\n",
       "    <tr>\n",
       "      <th>450</th>\n",
       "      <td>Region_E</td>\n",
       "      <td>2024-03-27</td>\n",
       "      <td>13.695</td>\n",
       "    </tr>\n",
       "    <tr>\n",
       "      <th>451</th>\n",
       "      <td>Region_E</td>\n",
       "      <td>2024-03-28</td>\n",
       "      <td>36.534</td>\n",
       "    </tr>\n",
       "    <tr>\n",
       "      <th>452</th>\n",
       "      <td>Region_E</td>\n",
       "      <td>2024-03-29</td>\n",
       "      <td>82.125</td>\n",
       "    </tr>\n",
       "    <tr>\n",
       "      <th>453</th>\n",
       "      <td>Region_E</td>\n",
       "      <td>2024-03-30</td>\n",
       "      <td>95.024</td>\n",
       "    </tr>\n",
       "    <tr>\n",
       "      <th>454</th>\n",
       "      <td>Region_E</td>\n",
       "      <td>2024-03-31</td>\n",
       "      <td>54.937</td>\n",
       "    </tr>\n",
       "  </tbody>\n",
       "</table>\n",
       "<p>452 rows × 3 columns</p>\n",
       "</div>"
      ],
      "text/plain": [
       "       Region       Date  Rainfall_mm\n",
       "0    Region_A 2024-01-01        4.965\n",
       "1    Region_A 2024-01-02       27.729\n",
       "2    Region_A 2024-01-03       12.881\n",
       "3    Region_A 2024-01-04       32.818\n",
       "4    Region_A 2024-01-05       36.127\n",
       "..        ...        ...          ...\n",
       "450  Region_E 2024-03-27       13.695\n",
       "451  Region_E 2024-03-28       36.534\n",
       "452  Region_E 2024-03-29       82.125\n",
       "453  Region_E 2024-03-30       95.024\n",
       "454  Region_E 2024-03-31       54.937\n",
       "\n",
       "[452 rows x 3 columns]"
      ]
     },
     "execution_count": 37,
     "metadata": {},
     "output_type": "execute_result"
    }
   ],
   "source": [
    "threshold_value1 =20000\n",
    "# I have used the threshold_value1 as 10000 because \n",
    "# Highest Average Annual Rainfall\n",
    "# Mawsynram, India: Mawsynram, a village in the northeastern part of India, holds the record for the highest average annual rainfall in the world. \n",
    "# It receives an average of 11,871 mm (467.4 inches) of rainfall annually.\n",
    "# According to this infoarmation we know that or using the basic logic the maximum ranfall cannot exceeds this value.\n",
    "threshold_value =0\n",
    "# For the threshold_value as 0 we know that the rainfall in mm cannot be negative it can be zero means no rainfall has occured in that region.\n",
    "df_cleaned = df[(df['Rainfall_mm'] >= threshold_value) & (df['Rainfall_mm'] <= threshold_value1)]\n",
    "df_cleaned "
   ]
  },
  {
   "cell_type": "code",
   "execution_count": 39,
   "id": "ab30dabe-55b4-4bff-a5d9-72369c876766",
   "metadata": {},
   "outputs": [],
   "source": [
    "# The explaition about the removal of the outliers \n",
    "# According of this data and the box plot that we have seen in the above code have just 2 or 3 outliers so we have removed it using that \n",
    "# But in general it is not the case for removing the outliers using the box plot we have a certain criteria i.e \n",
    "# lower_bound = Q1 - 1.5 * IQR\n",
    "# upper_bound = Q3 + 1.5 * IQR\n",
    "# But this case was very clear beacuse of the domain that was given if we had some other more critical domain it would have been difficult of directly \n",
    "# Remove the data \n",
    "# We have certain more methods to remove the outlier if the data is normallly distributed then for small data fewer than 80\n",
    "# lower_bound = mean - 3 * sd\n",
    "# upper_bound = mean + 3 * sd\n",
    "# If the sample size is greater than 80 we can use \n",
    "# lower_bound = mean - 4* sd\n",
    "# upper_bound = mean + 4* sd\n",
    "# just to give more witdh to the values of the data \n",
    "# or we can standarized it using the formula x-mean/sd we use (scaling the data)\n",
    "# lower_bound = mean - 3 * sd\n",
    "# upper_bound = mean + 3 * sd"
   ]
  },
  {
   "cell_type": "code",
   "execution_count": 173,
   "id": "cae038f0-8fab-4ad6-8136-8f7944a433c4",
   "metadata": {},
   "outputs": [
    {
     "data": {
      "text/plain": [
       "<Axes: >"
      ]
     },
     "execution_count": 173,
     "metadata": {},
     "output_type": "execute_result"
    },
    {
     "data": {
      "image/png": "[encoded data removed]",
      "text/plain": [
       "<Figure size 640x480 with 1 Axes>"
      ]
     },
     "metadata": {},
     "output_type": "display_data"
    }
   ],
   "source": [
    "sns.boxplot(df_cleaned)\n",
    "# From this box plot we can see that there is no outliers in the data which is perfect for the further calculations \n",
    "# We can see that the data is positively skeweed \n",
    "# we can also see the spread of the data here and the IQR "
   ]
  },
  {
   "cell_type": "code",
   "execution_count": 175,
   "id": "34a1cb91-e1b7-4839-8bfa-e07fd7ad686a",
   "metadata": {},
   "outputs": [
    {
     "data": {
      "text/plain": [
       "<seaborn.axisgrid.FacetGrid at 0x16a06d97e90>"
      ]
     },
     "execution_count": 175,
     "metadata": {},
     "output_type": "execute_result"
    },
    {
     "data": {
      "image/png": "[encoded data removed]",
      "text/plain": [
       "<Figure size 636.125x500 with 1 Axes>"
      ]
     },
     "metadata": {},
     "output_type": "display_data"
    }
   ],
   "source": [
    "sns.displot(df_cleaned)\n",
    "# Just to show the distribution of the data.\n",
    "# The pyhton was not able to plot the histogram of the data without removing of the outliers .\n",
    "# So we can say that is really important to clean the data before doing any kind of statistical analysis."
   ]
  },
  {
   "cell_type": "markdown",
   "id": "d2f5beff-e42b-4337-8611-bb5ec0554a3b",
   "metadata": {},
   "source": [
    "# Excess Rainfall Calculation\n",
    "For each region, compute the number of days where excess rainfall occurred. Excess rainfall is defined as rainfall in mm > 60."
   ]
  },
  {
   "cell_type": "code",
   "execution_count": 51,
   "id": "b54742d2-f35a-4c82-bc5f-1438b1bc3265",
   "metadata": {},
   "outputs": [
    {
     "data": {
      "text/html": [
       "<div>\n",
       "<style scoped>\n",
       "    .dataframe tbody tr th:only-of-type {\n",
       "        vertical-align: middle;\n",
       "    }\n",
       "\n",
       "    .dataframe tbody tr th {\n",
       "        vertical-align: top;\n",
       "    }\n",
       "\n",
       "    .dataframe thead th {\n",
       "        text-align: right;\n",
       "    }\n",
       "</style>\n",
       "<table border=\"1\" class=\"dataframe\">\n",
       "  <thead>\n",
       "    <tr style=\"text-align: right;\">\n",
       "      <th></th>\n",
       "      <th>Region</th>\n",
       "      <th>Date</th>\n",
       "      <th>Rainfall_mm</th>\n",
       "    </tr>\n",
       "  </thead>\n",
       "  <tbody>\n",
       "    <tr>\n",
       "      <th>5</th>\n",
       "      <td>Region_A</td>\n",
       "      <td>2024-01-06</td>\n",
       "      <td>67.575</td>\n",
       "    </tr>\n",
       "    <tr>\n",
       "      <th>11</th>\n",
       "      <td>Region_A</td>\n",
       "      <td>2024-01-12</td>\n",
       "      <td>67.890</td>\n",
       "    </tr>\n",
       "    <tr>\n",
       "      <th>12</th>\n",
       "      <td>Region_A</td>\n",
       "      <td>2024-01-13</td>\n",
       "      <td>75.535</td>\n",
       "    </tr>\n",
       "    <tr>\n",
       "      <th>13</th>\n",
       "      <td>Region_A</td>\n",
       "      <td>2024-01-14</td>\n",
       "      <td>70.623</td>\n",
       "    </tr>\n",
       "    <tr>\n",
       "      <th>14</th>\n",
       "      <td>Region_A</td>\n",
       "      <td>2024-01-15</td>\n",
       "      <td>74.195</td>\n",
       "    </tr>\n",
       "    <tr>\n",
       "      <th>...</th>\n",
       "      <td>...</td>\n",
       "      <td>...</td>\n",
       "      <td>...</td>\n",
       "    </tr>\n",
       "    <tr>\n",
       "      <th>442</th>\n",
       "      <td>Region_E</td>\n",
       "      <td>2024-03-19</td>\n",
       "      <td>66.377</td>\n",
       "    </tr>\n",
       "    <tr>\n",
       "      <th>444</th>\n",
       "      <td>Region_E</td>\n",
       "      <td>2024-03-21</td>\n",
       "      <td>78.460</td>\n",
       "    </tr>\n",
       "    <tr>\n",
       "      <th>447</th>\n",
       "      <td>Region_E</td>\n",
       "      <td>2024-03-24</td>\n",
       "      <td>89.153</td>\n",
       "    </tr>\n",
       "    <tr>\n",
       "      <th>452</th>\n",
       "      <td>Region_E</td>\n",
       "      <td>2024-03-29</td>\n",
       "      <td>82.125</td>\n",
       "    </tr>\n",
       "    <tr>\n",
       "      <th>453</th>\n",
       "      <td>Region_E</td>\n",
       "      <td>2024-03-30</td>\n",
       "      <td>95.024</td>\n",
       "    </tr>\n",
       "  </tbody>\n",
       "</table>\n",
       "<p>182 rows × 3 columns</p>\n",
       "</div>"
      ],
      "text/plain": [
       "       Region       Date  Rainfall_mm\n",
       "5    Region_A 2024-01-06       67.575\n",
       "11   Region_A 2024-01-12       67.890\n",
       "12   Region_A 2024-01-13       75.535\n",
       "13   Region_A 2024-01-14       70.623\n",
       "14   Region_A 2024-01-15       74.195\n",
       "..        ...        ...          ...\n",
       "442  Region_E 2024-03-19       66.377\n",
       "444  Region_E 2024-03-21       78.460\n",
       "447  Region_E 2024-03-24       89.153\n",
       "452  Region_E 2024-03-29       82.125\n",
       "453  Region_E 2024-03-30       95.024\n",
       "\n",
       "[182 rows x 3 columns]"
      ]
     },
     "execution_count": 51,
     "metadata": {},
     "output_type": "execute_result"
    }
   ],
   "source": [
    "Excess_Rainfall = df_cleaned[df_cleaned['Rainfall_mm'] > 60]\n",
    "Excess_Rainfall\n",
    "# we have 182 from 452 days in which there was a excess rainfall\n"
   ]
  },
  {
   "cell_type": "markdown",
   "id": "079f7a73-9cd4-4fd9-aec1-b40273bdad83",
   "metadata": {},
   "source": [
    "# claim calculation \n"
   ]
  },
  {
   "cell_type": "code",
   "execution_count": 63,
   "id": "0846a67c-afaa-4f36-97e4-bfe746d3276a",
   "metadata": {},
   "outputs": [],
   "source": [
    "# Based on the number of excess rainfall days, calculate the claim for each region using the following slab:\n",
    "# Excess rainfall days <= 10: No claim\n",
    "# Excess rainfall days between 11-30: ₹100/day\n",
    "# Excess rainfall days between 31-50: ₹200/day\n",
    "# Excess rainfall days >= 51: ₹300/day"
   ]
  },
  {
   "cell_type": "code",
   "execution_count": 151,
   "id": "b53d55f2-f3de-4ef4-911b-235a4848a0c7",
   "metadata": {},
   "outputs": [
    {
     "data": {
      "text/plain": [
       "7200"
      ]
     },
     "execution_count": 151,
     "metadata": {},
     "output_type": "execute_result"
    }
   ],
   "source": [
    "Region_A_ER = df_cleaned[(df_cleaned['Region'] == 'Region_A') & (df_cleaned['Rainfall_mm'] > 60)]\n",
    "Region_A_ER\n",
    "total_rows = Region_A.shape[0]\n",
    "total_rows\n",
    "# This is the total no of days in which there was a excess rainfall i.e 36\n",
    "# According to the criteria of the claim calculation \n",
    "# Excess rainfall days between 31-50: ₹200/day\n",
    "Excess_rainfall_days_between_31_50 =200\n",
    "Excess_Rainfall_days_Region_A =total_rows\n",
    "claim_Amount_Region_A=Excess_rainfall_days_between_31_50*Excess_Rainfall_days_Region_A\n",
    "claim_Amount_Region_A"
   ]
  },
  {
   "cell_type": "code",
   "execution_count": 153,
   "id": "edf1637f-b299-4305-8255-2bd6828ab648",
   "metadata": {},
   "outputs": [
    {
     "data": {
      "text/plain": [
       "7400"
      ]
     },
     "execution_count": 153,
     "metadata": {},
     "output_type": "execute_result"
    }
   ],
   "source": [
    "Region_B_ER = df_cleaned[(df_cleaned['Region'] == 'Region_B') & (df_cleaned['Rainfall_mm'] > 60)]\n",
    "Region_B_ER\n",
    "total_rows = Region_B_ER.shape[0]\n",
    "total_rows\n",
    "# This is the total no of days in which there was a excess rainfall i.e 37\n",
    "# According to the criteria of the claim calculation \n",
    "# Excess rainfall days between 31-50: ₹200/day\n",
    "Excess_rainfall_days_between_31_50 = 200\n",
    "Excess_Rainfall_days_Region_B = total_rows\n",
    "claim_Amount_Region_B = Excess_rainfall_days_between_31_50*Excess_Rainfall_days_Region_B\n",
    "claim_Amount_Region_B"
   ]
  },
  {
   "cell_type": "code",
   "execution_count": 135,
   "id": "ee04c078-623d-4bd6-8765-9b32b62b7509",
   "metadata": {},
   "outputs": [
    {
     "data": {
      "text/plain": [
       "8600"
      ]
     },
     "execution_count": 135,
     "metadata": {},
     "output_type": "execute_result"
    }
   ],
   "source": [
    "Region_C_ER = df_cleaned[(df_cleaned['Region'] == 'Region_C') & (df_cleaned['Rainfall_mm'] > 60)]\n",
    "Region_C_ER\n",
    "total_rows = Region_C_ER.shape[0]\n",
    "total_rows\n",
    "# This is the total no of days in which there was a excess rainfall i.e 43\n",
    "# According to the criteria of the claim calculation \n",
    "# Excess rainfall days between 31-50: ₹200/day\n",
    "Excess_rainfall_days_between_31_50 = 200\n",
    "Excess_Rainfall_days_Region_C = total_rows\n",
    "claim_Amount_Region_C = Excess_rainfall_days_between_31_50*Excess_Rainfall_days_Region_C\n",
    "claim_Amount_Region_C"
   ]
  },
  {
   "cell_type": "code",
   "execution_count": 155,
   "id": "e716f89d-6ed3-44e2-a248-8684fa08c2c9",
   "metadata": {},
   "outputs": [
    {
     "data": {
      "text/plain": [
       "7000"
      ]
     },
     "execution_count": 155,
     "metadata": {},
     "output_type": "execute_result"
    }
   ],
   "source": [
    "Region_D_ER = df_cleaned[(df_cleaned['Region'] == 'Region_D') & (df_cleaned['Rainfall_mm'] > 60)]\n",
    "Region_D_ER\n",
    "total_rows = Region_D_ER.shape[0]\n",
    "total_rows\n",
    "# This is the total no of days in which there was a excess rainfall i.e 43\n",
    "# According to the criteria of the claim calculation \n",
    "# Excess rainfall days between 31-50: ₹200/day\n",
    "Excess_rainfall_days_between_31_50 = 200\n",
    "Excess_Rainfall_days_Region_D = total_rows\n",
    "claim_Amount_Region_D = Excess_rainfall_days_between_31_50*Excess_Rainfall_days_Region_D\n",
    "claim_Amount_Region_D"
   ]
  },
  {
   "cell_type": "code",
   "execution_count": 157,
   "id": "e651adfd-77fb-4915-b13f-fa6721191279",
   "metadata": {},
   "outputs": [
    {
     "data": {
      "text/plain": [
       "6200"
      ]
     },
     "execution_count": 157,
     "metadata": {},
     "output_type": "execute_result"
    }
   ],
   "source": [
    "Region_E_ER = df_cleaned[(df_cleaned['Region'] == 'Region_E') & (df_cleaned['Rainfall_mm'] > 60)]\n",
    "Region_E_ER\n",
    "total_rows = Region_E_ER.shape[0]\n",
    "total_rows\n",
    "# This is the total no of days in which there was a excess rainfall i.e 43\n",
    "# According to the criteria of the claim calculation \n",
    "# Excess rainfall days between 31-50: ₹200/day\n",
    "Excess_rainfall_days_between_31_50 = 200\n",
    "Excess_Rainfall_days_Region_E = total_rows\n",
    "claim_Amount_Region_E = Excess_rainfall_days_between_31_50*Excess_Rainfall_days_Region_E\n",
    "claim_Amount_Region_E"
   ]
  },
  {
   "cell_type": "markdown",
   "id": "484bfa4a-b628-4ede-8658-cb32b9d0dc39",
   "metadata": {},
   "source": [
    "# Above Process using Loop so that we can convert the output in a table form."
   ]
  },
  {
   "cell_type": "code",
   "execution_count": 168,
   "id": "8c70a353-2973-460e-8a14-babac6aeb36c",
   "metadata": {},
   "outputs": [
    {
     "name": "stdout",
     "output_type": "stream",
     "text": [
      "     Region  Excess Rainfall Days  Claim (₹)\n",
      "0  Region_A                    36       7200\n",
      "1  Region_B                    37       7400\n",
      "2  Region_C                    43       8600\n",
      "3  Region_D                    35       7000\n",
      "4  Region_E                    31       6200\n"
     ]
    }
   ],
   "source": [
    "import pandas as pd\n",
    "\n",
    "# Initialize an empty list to store the results\n",
    "claims_data = []\n",
    "\n",
    "# Loop through each unique region\n",
    "for region in df_cleaned['Region'].unique():\n",
    "    # Filter the DataFrame for the current region and rainfall > 60\n",
    "    Region_ER = df_cleaned[(df_cleaned['Region'] == region) & (df_cleaned['Rainfall_mm'] > 60)]\n",
    "    \n",
    "    # Count the number of excess rainfall days\n",
    "    excess_rainfall_days = len(Region_ER)\n",
    "    \n",
    "    # Calculate the claim based on the number of excess rainfall days\n",
    "    if excess_rainfall_days <= 10:\n",
    "        claim = 0  # No claim\n",
    "    elif 11 <= excess_rainfall_days <= 30:\n",
    "        claim = excess_rainfall_days * 100  # ₹100/day\n",
    "    elif 31 <= excess_rainfall_days <= 50:\n",
    "        claim = excess_rainfall_days * 200  # ₹200/day\n",
    "    else:  # excess_rainfall_days >= 51\n",
    "        claim = excess_rainfall_days * 300  # ₹300/day\n",
    "    \n",
    "    # Append the region, excess rainfall days, and claim to the list\n",
    "    claims_data.append([region, excess_rainfall_days, claim])\n",
    "\n",
    "# Create a DataFrame from the list\n",
    "claims_df = pd.DataFrame(claims_data, columns=['Region', 'Excess Rainfall Days', 'Claim (₹)'])\n",
    "\n",
    "# Display the resulting DataFrame\n",
    "print(claims_df)\n"
   ]
  },
  {
   "cell_type": "markdown",
   "id": "5802a064-a23b-42fb-a84b-43e1740435eb",
   "metadata": {},
   "source": [
    "# Performing the analysis by dealing with outliers using different staistcial method. "
   ]
  },
  {
   "cell_type": "code",
   "execution_count": 10,
   "id": "b7ef0145-4ac4-41d4-85a8-7199740b55cc",
   "metadata": {},
   "outputs": [
    {
     "data": {
      "text/html": [
       "<div>\n",
       "<style scoped>\n",
       "    .dataframe tbody tr th:only-of-type {\n",
       "        vertical-align: middle;\n",
       "    }\n",
       "\n",
       "    .dataframe tbody tr th {\n",
       "        vertical-align: top;\n",
       "    }\n",
       "\n",
       "    .dataframe thead th {\n",
       "        text-align: right;\n",
       "    }\n",
       "</style>\n",
       "<table border=\"1\" class=\"dataframe\">\n",
       "  <thead>\n",
       "    <tr style=\"text-align: right;\">\n",
       "      <th></th>\n",
       "      <th>Region</th>\n",
       "      <th>Date</th>\n",
       "      <th>Rainfall_mm</th>\n",
       "    </tr>\n",
       "  </thead>\n",
       "  <tbody>\n",
       "    <tr>\n",
       "      <th>0</th>\n",
       "      <td>Region_A</td>\n",
       "      <td>2024-01-01</td>\n",
       "      <td>4.965</td>\n",
       "    </tr>\n",
       "    <tr>\n",
       "      <th>1</th>\n",
       "      <td>Region_A</td>\n",
       "      <td>2024-01-02</td>\n",
       "      <td>27.729</td>\n",
       "    </tr>\n",
       "    <tr>\n",
       "      <th>2</th>\n",
       "      <td>Region_A</td>\n",
       "      <td>2024-01-03</td>\n",
       "      <td>12.881</td>\n",
       "    </tr>\n",
       "    <tr>\n",
       "      <th>3</th>\n",
       "      <td>Region_A</td>\n",
       "      <td>2024-01-04</td>\n",
       "      <td>32.818</td>\n",
       "    </tr>\n",
       "    <tr>\n",
       "      <th>4</th>\n",
       "      <td>Region_A</td>\n",
       "      <td>2024-01-05</td>\n",
       "      <td>36.127</td>\n",
       "    </tr>\n",
       "    <tr>\n",
       "      <th>...</th>\n",
       "      <td>...</td>\n",
       "      <td>...</td>\n",
       "      <td>...</td>\n",
       "    </tr>\n",
       "    <tr>\n",
       "      <th>450</th>\n",
       "      <td>Region_E</td>\n",
       "      <td>2024-03-27</td>\n",
       "      <td>13.695</td>\n",
       "    </tr>\n",
       "    <tr>\n",
       "      <th>451</th>\n",
       "      <td>Region_E</td>\n",
       "      <td>2024-03-28</td>\n",
       "      <td>36.534</td>\n",
       "    </tr>\n",
       "    <tr>\n",
       "      <th>452</th>\n",
       "      <td>Region_E</td>\n",
       "      <td>2024-03-29</td>\n",
       "      <td>82.125</td>\n",
       "    </tr>\n",
       "    <tr>\n",
       "      <th>453</th>\n",
       "      <td>Region_E</td>\n",
       "      <td>2024-03-30</td>\n",
       "      <td>95.024</td>\n",
       "    </tr>\n",
       "    <tr>\n",
       "      <th>454</th>\n",
       "      <td>Region_E</td>\n",
       "      <td>2024-03-31</td>\n",
       "      <td>54.937</td>\n",
       "    </tr>\n",
       "  </tbody>\n",
       "</table>\n",
       "<p>455 rows × 3 columns</p>\n",
       "</div>"
      ],
      "text/plain": [
       "       Region       Date  Rainfall_mm\n",
       "0    Region_A 2024-01-01        4.965\n",
       "1    Region_A 2024-01-02       27.729\n",
       "2    Region_A 2024-01-03       12.881\n",
       "3    Region_A 2024-01-04       32.818\n",
       "4    Region_A 2024-01-05       36.127\n",
       "..        ...        ...          ...\n",
       "450  Region_E 2024-03-27       13.695\n",
       "451  Region_E 2024-03-28       36.534\n",
       "452  Region_E 2024-03-29       82.125\n",
       "453  Region_E 2024-03-30       95.024\n",
       "454  Region_E 2024-03-31       54.937\n",
       "\n",
       "[455 rows x 3 columns]"
      ]
     },
     "execution_count": 10,
     "metadata": {},
     "output_type": "execute_result"
    }
   ],
   "source": [
    "df"
   ]
  },
  {
   "cell_type": "code",
   "execution_count": 18,
   "id": "bc4f88cd-5a31-4257-8c48-5349c033a603",
   "metadata": {},
   "outputs": [],
   "source": [
    "# This time rather elemenating the outliers directly we will try to add some particular value according to some statistical method.\n",
    "# In the case since the data is not so large so removing outliers directly can cause problem so rather than elemenating or removing the value \n",
    "# we can treat the outliers as a missing value and using some specific methods of ml and statistics we can find that missing value and re perform the analysis \n",
    "# Lets take a look at the differnt process to deal with missing values using the different technique"
   ]
  },
  {
   "cell_type": "markdown",
   "id": "1f556581-0db0-46c7-a7ab-bdd2ff24446f",
   "metadata": {},
   "source": [
    "# using mean as a replacement for the missing value "
   ]
  },
  {
   "cell_type": "code",
   "execution_count": null,
   "id": "6e8e45ed-c642-4eee-8b41-4dd282eb8da5",
   "metadata": {},
   "outputs": [],
   "source": [
    "# The most widely used method for treating the missing value is by taking the mean or median of the related data and substituting in the place of the missing value\n",
    "# Lets perform the analysis by using the mean of the given data as replacement for the missing values."
   ]
  },
  {
   "cell_type": "code",
   "execution_count": 33,
   "id": "5fb3a537-f7fd-41dd-8c90-71e00eef8101",
   "metadata": {},
   "outputs": [
    {
     "data": {
      "text/plain": [
       "<Axes: >"
      ]
     },
     "execution_count": 33,
     "metadata": {},
     "output_type": "execute_result"
    },
    {
     "data": {
      "image/png": "[encoded data removed]",
      "text/plain": [
       "<Figure size 640x480 with 1 Axes>"
      ]
     },
     "metadata": {},
     "output_type": "display_data"
    }
   ],
   "source": [
    "df1=df[df['Region']== 'Region_C']\n",
    "sns.boxplot(df1)"
   ]
  },
  {
   "cell_type": "code",
   "execution_count": 14,
   "id": "43cbc96f-57be-42f8-908c-df858f1641e8",
   "metadata": {},
   "outputs": [],
   "source": [
    "# From this bar plot we can see that all the values that are the outliers belongs to the region c \n",
    "# So now lets replace the values and with the mean of the data "
   ]
  },
  {
   "cell_type": "code",
   "execution_count": 109,
   "id": "9e9c0de4-28d7-4c77-972e-b7cfb0484c2e",
   "metadata": {},
   "outputs": [
    {
     "data": {
      "text/plain": [
       "Index([], dtype='int64')"
      ]
     },
     "execution_count": 109,
     "metadata": {},
     "output_type": "execute_result"
    }
   ],
   "source": [
    "index_to_replace = df[df['Rainfall_mm']>=1000000].index\n",
    "index_to_replace"
   ]
  },
  {
   "cell_type": "code",
   "execution_count": 53,
   "id": "d70d7580-3eb3-4303-9b74-de5c36ab92c5",
   "metadata": {},
   "outputs": [
    {
     "data": {
      "text/plain": [
       "Region                    Region_C\n",
       "Date           2024-01-31 00:00:00\n",
       "Rainfall_mm           1843648546.3\n",
       "Name: 212, dtype: object"
      ]
     },
     "execution_count": 53,
     "metadata": {},
     "output_type": "execute_result"
    }
   ],
   "source": [
    "df.iloc[212]\n",
    "# Now we will remove this value with the mean of the rest of the data "
   ]
  },
  {
   "cell_type": "code",
   "execution_count": 97,
   "id": "6de214f6-1db0-4655-84a5-844fa7cc32f2",
   "metadata": {},
   "outputs": [
    {
     "data": {
      "text/plain": [
       "48.50892222222222"
      ]
     },
     "execution_count": 97,
     "metadata": {},
     "output_type": "execute_result"
    }
   ],
   "source": [
    "filtered_df = df[(df['Region'] == 'Region_C') & (df['Rainfall_mm'] <1000000)]\n",
    "# Calculate the mean of 'Rainfall_mm'\n",
    "mean_value = filtered_df['Rainfall_mm'].mean()\n",
    "mean_value"
   ]
  },
  {
   "cell_type": "code",
   "execution_count": 113,
   "id": "174fdb19-64eb-4723-bda5-10a347f82156",
   "metadata": {},
   "outputs": [
    {
     "data": {
      "text/plain": [
       "[48.50892222222222]"
      ]
     },
     "execution_count": 113,
     "metadata": {},
     "output_type": "execute_result"
    }
   ],
   "source": [
    "# Now we have the mean of the data and will substitute this value in place of the missing value or the outlier \n",
    "df_og = df.loc[212, 'Rainfall_mm'] = [mean_value]\n",
    "df_og"
   ]
  },
  {
   "cell_type": "code",
   "execution_count": 121,
   "id": "d63abeb3-2e88-4c00-810c-220b68a7ab6e",
   "metadata": {},
   "outputs": [
    {
     "data": {
      "text/plain": [
       "Region                    Region_C\n",
       "Date           2024-01-31 00:00:00\n",
       "Rainfall_mm              48.508922\n",
       "Name: 212, dtype: object"
      ]
     },
     "execution_count": 121,
     "metadata": {},
     "output_type": "execute_result"
    }
   ],
   "source": [
    "df.iloc[212]"
   ]
  },
  {
   "cell_type": "code",
   "execution_count": 123,
   "id": "29e464a9-4691-41a6-9490-61fffec64bef",
   "metadata": {},
   "outputs": [
    {
     "data": {
      "text/plain": [
       "<Axes: >"
      ]
     },
     "execution_count": 123,
     "metadata": {},
     "output_type": "execute_result"
    },
    {
     "data": {
      "image/png": "[encoded data removed]",
      "text/plain": [
       "<Figure size 640x480 with 1 Axes>"
      ]
     },
     "metadata": {},
     "output_type": "display_data"
    }
   ],
   "source": [
    "sns.boxplot(df)"
   ]
  },
  {
   "cell_type": "code",
   "execution_count": 125,
   "id": "079c98b1-2478-46b2-a350-0b2a15ac5e92",
   "metadata": {},
   "outputs": [],
   "source": [
    "# Now we can perfrom the same analysis using the same technique as above since the condition that we have in that case\n",
    "# The negative outliers will not have any effect on our analysis due the conditions like\n",
    "# Based on the number of excess rainfall days, calculate the claim for each region using the following slab:\n",
    "# Excess rainfall days <= 10: No claim\n",
    "# Excess rainfall days between 11-30: ₹100/day\n",
    "# Excess rainfall days between 31-50: ₹200/day\n",
    "# Excess rainfall days >= 51: ₹300/day"
   ]
  },
  {
   "cell_type": "code",
   "execution_count": 127,
   "id": "97854252-2faa-44c4-a738-8112a6dadb53",
   "metadata": {},
   "outputs": [],
   "source": [
    "# Lets do the same analysis by using the same techique as above but the conditions will be a bit different here\n",
    "# Excess rainfall days <= 10: No claim\n",
    "# Excess rainfall days between 11-30: ₹100/day\n",
    "# Excess rainfall days between 31-50: ₹200/day\n",
    "# Excess rainfall days >= 51: ₹300/day\n",
    "# here if the excess rainfall days are 37 for example then for first 10 days there will be no charge and then for next 11-30 days we will get \n",
    "# 100 per day then after 31-50 we will get 200 per day and id >=51 then 300 per day "
   ]
  },
  {
   "cell_type": "code",
   "execution_count": 131,
   "id": "983be0b7-bdb6-49ed-bff8-92c0b184ec13",
   "metadata": {},
   "outputs": [
    {
     "name": "stdout",
     "output_type": "stream",
     "text": [
      "     Region  Excess Rainfall Days  Claim (₹)\n",
      "0  Region_A                    36       3200\n",
      "1  Region_B                    37       3400\n",
      "2  Region_C                    43       4600\n",
      "3  Region_D                    35       3000\n",
      "4  Region_E                    31       2200\n"
     ]
    }
   ],
   "source": [
    "import pandas as pd\n",
    "\n",
    "# Initialize an empty list to store the results\n",
    "claims_data = []\n",
    "\n",
    "# Loop through each unique region\n",
    "for region in df['Region'].unique():\n",
    "    # Filter the DataFrame for the current region and rainfall > 60\n",
    "    Region_ER = df[(df['Region'] == region) & (df['Rainfall_mm'] > 60)]\n",
    "    \n",
    "    # Count the number of excess rainfall days\n",
    "    excess_rainfall_days = len(Region_ER)\n",
    "    \n",
    "    # Calculate the claim based on the number of excess rainfall days with the tiered structure\n",
    "    if excess_rainfall_days <= 10:\n",
    "        claim = 0  # No claim for 10 or fewer days\n",
    "    elif 11 <= excess_rainfall_days <= 30:\n",
    "        claim = (excess_rainfall_days - 10) * 100  # ₹100/day for days 11-30\n",
    "    elif 31 <= excess_rainfall_days <= 50:\n",
    "        claim = (20 * 100) + (excess_rainfall_days - 30) * 200  # ₹100/day for days 11-30, ₹200/day for days 31-50\n",
    "    else:  # excess_rainfall_days > 50\n",
    "        claim = (20 * 100) + (20 * 200) + (excess_rainfall_days - 50) * 300  # ₹100/day for days 11-30, ₹200/day for days 31-50, ₹300/day for days > 50\n",
    "    \n",
    "    # Append the region, excess rainfall days, and claim to the list\n",
    "    claims_data.append([region, excess_rainfall_days, claim])\n",
    "\n",
    "# Create a DataFrame from the list\n",
    "claims_df = pd.DataFrame(claims_data, columns=['Region', 'Excess Rainfall Days', 'Claim (₹)'])\n",
    "\n",
    "# Display the resulting DataFrame\n",
    "print(claims_df)\n"
   ]
  },
  {
   "cell_type": "code",
   "execution_count": 133,
   "id": "1a35c49e-0503-40d4-922f-f1c727327c0e",
   "metadata": {},
   "outputs": [],
   "source": [
    "# The claim in rupees is reduced with this logic \n",
    "# But in this case also we are getting the same result ."
   ]
  },
  {
   "cell_type": "markdown",
   "id": "bb87e4c2-7c8a-43d4-ae3a-1f4ae4e23d0d",
   "metadata": {},
   "source": [
    "# Differnt ways to deal with the missing values "
   ]
  },
  {
   "cell_type": "code",
   "execution_count": 136,
   "id": "863c4181-cf2a-4630-93b4-74d317008965",
   "metadata": {},
   "outputs": [],
   "source": [
    "# In the above excercise we have use the mean of the Region c values to substitute in place of the extreme outliers \n",
    "# But we have not removed the negative values from the data since they have no impact on the results \n",
    "# But they do have the effect on the value of the mean of the region c "
   ]
  },
  {
   "cell_type": "code",
   "execution_count": 144,
   "id": "de383dc6-18e7-4b65-b8d1-2f6ae0e855b2",
   "metadata": {},
   "outputs": [
    {
     "data": {
      "text/plain": [
       "50.55377440699126"
      ]
     },
     "execution_count": 144,
     "metadata": {},
     "output_type": "execute_result"
    }
   ],
   "source": [
    "filtered_df = df[(df['Region'] == 'Region_C') & (df['Rainfall_mm'] < 1000000) & (df['Rainfall_mm'] > 0)]\n",
    "# Calculate the mean of 'Rainfall_mm'\n",
    "mean_value = filtered_df['Rainfall_mm'].mean()\n",
    "mean_value\n"
   ]
  },
  {
   "cell_type": "code",
   "execution_count": 146,
   "id": "eac34e60-bbf1-4877-85b8-8a2f4d87d0f4",
   "metadata": {},
   "outputs": [],
   "source": [
    "# Still the mean value is not above the range of the i.e > 60 so we will consider the above method only"
   ]
  },
  {
   "cell_type": "markdown",
   "id": "32a3dfb3-7569-4d27-a811-d8e74d00f0f3",
   "metadata": {},
   "source": [
    "# Different ML models to deal with missing values or outliers "
   ]
  },
  {
   "cell_type": "code",
   "execution_count": null,
   "id": "ed39bac6-0032-4931-bd13-fbdd39bfb052",
   "metadata": {},
   "outputs": [],
   "source": [
    "# We can perform the regression analysis here to obtain the missing value but in this data set we have rainfall as dependent parameter \n",
    "# but the independent variables are not quantitative but there are qualitative so the regression analysis will not perform that much \n",
    "# we can consider the logistic regrssion here but still it will be much time consuing and cost consuming .\n",
    "# Another ML method that we can consdier here is Knn k nearst neighbour in this method it predicts the new value by conserding the nearest data \n",
    "# or samplel point available \n",
    "# Or we can standarized it and again perform the same analysis but since the value of the outliers is very extreme we would like to replace it with a\n",
    "# Particular missing value to get a better and unbaised output for the claim calulation without any loss.\n"
   ]
  }
 ],
 "metadata": {
  "kernelspec": {
   "display_name": "Python 3 (ipykernel)",
   "language": "python",
   "name": "python3"
  },
  "language_info": {
   "codemirror_mode": {
    "name": "ipython",
    "version": 3
   },
   "file_extension": ".py",
   "mimetype": "text/x-python",
   "name": "python",
   "nbconvert_exporter": "python",
   "pygments_lexer": "ipython3",
   "version": "3.12.4"
  }
 },
 "nbformat": 4,
 "nbformat_minor": 5
}
